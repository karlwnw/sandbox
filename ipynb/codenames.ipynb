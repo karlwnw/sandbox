{
 "cells": [
  {
   "cell_type": "markdown",
   "metadata": {},
   "source": [
    "# A simple Codenames board generator"
   ]
  },
  {
   "cell_type": "markdown",
   "metadata": {},
   "source": [
    "See the [codenames.html](https://karlwnw.github.io/sandbox/codenames.html) file to view table output with proper style. Github web interface does not seem to render .ipynb files with the default Bootstrap CSS."
   ]
  },
  {
   "cell_type": "code",
   "execution_count": 1,
   "metadata": {},
   "outputs": [
    {
     "name": "stdout",
     "output_type": "stream",
     "text": [
      "251 words loaded.\n"
     ]
    }
   ],
   "source": [
    "# Custom French word list\n",
    "wordlist = [\n",
    "    \"Abeille\", \n",
    "    \"Accident\", \n",
    "    \"Actrice\", \n",
    "    \"Allemagne\", \n",
    "    \"Ame\", \n",
    "    \"Amour\", \n",
    "    \"Angleterre\", \n",
    "    \"Anneau\", \n",
    "    \"Anniversaire\", \n",
    "    \"Araignée\", \n",
    "    \"Arc\", \n",
    "    \"Argent\", \n",
    "    \"Aspirateur\", \n",
    "    \"Australie\", \n",
    "    \"Avion\", \n",
    "    \"Baleine\", \n",
    "    \"Banane\", \n",
    "    \"Banque\", \n",
    "    \"Bateau\", \n",
    "    \"Belle\", \n",
    "    \"Billet\", \n",
    "    \"Biodiversité\", \n",
    "    \"Blanc\", \n",
    "    \"Bleu\", \n",
    "    \"Bouchon\", \n",
    "    \"Bougie\", \n",
    "    \"Boule\", \n",
    "    \"Bretelle\", \n",
    "    \"Brocoli\", \n",
    "    \"Bus\", \n",
    "    \"Café\", \n",
    "    \"Camembert\", \n",
    "    \"Campagne\", \n",
    "    \"Canada\", \n",
    "    \"Capitalisme\", \n",
    "    \"Carte\", \n",
    "    \"Casino\", \n",
    "    \"Cercle\", \n",
    "    \"Certain\", \n",
    "    \"Champagne\", \n",
    "    \"Chance\", \n",
    "    \"Charme\", \n",
    "    \"Chemise\", \n",
    "    \"Cheval\", \n",
    "    \"Chien\", \n",
    "    \"Chine\", \n",
    "    \"Chocolat\", \n",
    "    \"Cinéma\", \n",
    "    \"Classe\", \n",
    "    \"Cloche\", \n",
    "    \"Club\", \n",
    "    \"Clé\", \n",
    "    \"Code\", \n",
    "    \"Corde\", \n",
    "    \"Correct\", \n",
    "    \"Courir\", \n",
    "    \"Crochet\", \n",
    "    \"Cycle\", \n",
    "    \"Danser\", \n",
    "    \"Demain\", \n",
    "    \"Dessert\", \n",
    "    \"Différent\", \n",
    "    \"Dinosaure\", \n",
    "    \"Disparaître\", \n",
    "    \"Docteur\", \n",
    "    \"Don\", \n",
    "    \"Douce\", \n",
    "    \"Dragon\", \n",
    "    \"Droite\", \n",
    "    \"Drôle\", \n",
    "    \"Eau\", \n",
    "    \"Echelle\", \n",
    "    \"Eclair\", \n",
    "    \"Ecole\", \n",
    "    \"Economie\", \n",
    "    \"Egypte\", \n",
    "    \"Ennemi\", \n",
    "    \"Escalade\", \n",
    "    \"Everest\", \n",
    "    \"Fantôme\", \n",
    "    \"Femme\", \n",
    "    \"Fenêtre\", \n",
    "    \"Fer\", \n",
    "    \"Ferme\", \n",
    "    \"Feuille\", \n",
    "    \"Film\", \n",
    "    \"Fièvre\", \n",
    "    \"Fourchette\", \n",
    "    \"Fourmi\", \n",
    "    \"Fraise\", \n",
    "    \"France\", \n",
    "    \"Fuite\", \n",
    "    \"Fusil\", \n",
    "    \"Gauche\", \n",
    "    \"Gel\", \n",
    "    \"Glace\", \n",
    "    \"Guerre\", \n",
    "    \"Guider\", \n",
    "    \"Guitare\", \n",
    "    \"Géant\", \n",
    "    \"Génie\", \n",
    "    \"Histoire\", \n",
    "    \"Hobit\", \n",
    "    \"Homme\", \n",
    "    \"Honnête\", \n",
    "    \"Horrible\", \n",
    "    \"Iglou\", \n",
    "    \"Ile\", \n",
    "    \"Illegal\", \n",
    "    \"Image\", \n",
    "    \"Indien\", \n",
    "    \"Japon\", \n",
    "    \"Jeune\", \n",
    "    \"Joli\", \n",
    "    \"Jour\", \n",
    "    \"Journal\", \n",
    "    \"Kangourou\", \n",
    "    \"Kilomètre\", \n",
    "    \"Kimono\", \n",
    "    \"Klaxon\", \n",
    "    \"Langue\", \n",
    "    \"Laser\", \n",
    "    \"Licorne\", \n",
    "    \"Lion\", \n",
    "    \"Lit\", \n",
    "    \"Littérature\", \n",
    "    \"Londres\", \n",
    "    \"Lune\", \n",
    "    \"Magie\", \n",
    "    \"Main\", \n",
    "    \"Maintenant\", \n",
    "    \"Majeur\", \n",
    "    \"Manège\", \n",
    "    \"Marron\", \n",
    "    \"Mathématiques\", \n",
    "    \"Maîtresse\", \n",
    "    \"Menu\", \n",
    "    \"Meuble\", \n",
    "    \"Mignon\", \n",
    "    \"Mineur\", \n",
    "    \"Montagne\", \n",
    "    \"Monter\", \n",
    "    \"Mordre\", \n",
    "    \"Moyen\", \n",
    "    \"Musique\", \n",
    "    \"Nager\", \n",
    "    \"Neige\", \n",
    "    \"Noël\", \n",
    "    \"Nuit\", \n",
    "    \"Océan\", \n",
    "    \"Oeil\", \n",
    "    \"Ombre\", \n",
    "    \"Opération\", \n",
    "    \"Or\", \n",
    "    \"Orange\", \n",
    "    \"Ordinaire\", \n",
    "    \"Ordinateur\", \n",
    "    \"Pain\", \n",
    "    \"Paix\", \n",
    "    \"Papier\", \n",
    "    \"Paradis\", \n",
    "    \"Parfait\", \n",
    "    \"Paris\", \n",
    "    \"Patron\", \n",
    "    \"Perle\", \n",
    "    \"Personne\", \n",
    "    \"Peste\", \n",
    "    \"Phare\", \n",
    "    \"Philosophie\", \n",
    "    \"Piano\", \n",
    "    \"Pied\", \n",
    "    \"Pigeon\", \n",
    "    \"Pilote\", \n",
    "    \"Piquer\", \n",
    "    \"Piscine\", \n",
    "    \"Pizza\", \n",
    "    \"Pièce\", \n",
    "    \"Planche\", \n",
    "    \"Plante\", \n",
    "    \"Plateau\", \n",
    "    \"Pluie\", \n",
    "    \"Point\", \n",
    "    \"Poison\", \n",
    "    \"Poisson\", \n",
    "    \"Poker\", \n",
    "    \"Politique\", \n",
    "    \"Pompe\", \n",
    "    \"Poupée\", \n",
    "    \"Prise\", \n",
    "    \"Promettre\", \n",
    "    \"Propre\", \n",
    "    \"Pyramide\", \n",
    "    \"Python\", \n",
    "    \"Quadriceps\", \n",
    "    \"Quartier\", \n",
    "    \"Queue\", \n",
    "    \"Rat\", \n",
    "    \"Recyclé\", \n",
    "    \"Reine\", \n",
    "    \"Requin\", \n",
    "    \"Roi\", \n",
    "    \"Roman\", \n",
    "    \"Rouge\", \n",
    "    \"Russie\", \n",
    "    \"Réseau\", \n",
    "    \"Rêver\", \n",
    "    \"Saison\", \n",
    "    \"Sapin\", \n",
    "    \"Science\", \n",
    "    \"Scène\", \n",
    "    \"Serpent\", \n",
    "    \"Sieste\", \n",
    "    \"Soeur\", \n",
    "    \"Sol\", \n",
    "    \"Soleil\", \n",
    "    \"Sommeil\", \n",
    "    \"Souvent\", \n",
    "    \"Tapis\", \n",
    "    \"Tennis\", \n",
    "    \"Terre\", \n",
    "    \"Thé\", \n",
    "    \"Tomate\", \n",
    "    \"Trafic\", \n",
    "    \"Tragique\", \n",
    "    \"Trait\", \n",
    "    \"Travail\", \n",
    "    \"Triathlon\", \n",
    "    \"Trésor\", \n",
    "    \"Téléphone\", \n",
    "    \"Tête\", \n",
    "    \"Uniforme\", \n",
    "    \"Urbain\", \n",
    "    \"Usine\", \n",
    "    \"Vampire\", \n",
    "    \"Vanille\", \n",
    "    \"Vert\", \n",
    "    \"Vide\", \n",
    "    \"Vie\", \n",
    "    \"Vin\", \n",
    "    \"Virus\", \n",
    "    \"Vision\", \n",
    "    \"Voile\", \n",
    "    \"Voiture\", \n",
    "    \"Voix\", \n",
    "    \"Voler\", \n",
    "    \"Vélo\", \n",
    "    \"Watt\", \n",
    "    \"Week-end\", \n",
    "    \"Yaourt\", \n",
    "    \"Yoga\", \n",
    "    \"Zéro\"\n",
    "]\n",
    "print(f\"{len(wordlist)} words loaded.\")"
   ]
  },
  {
   "cell_type": "code",
   "execution_count": 2,
   "metadata": {},
   "outputs": [],
   "source": [
    "import random\n",
    "from IPython.display import HTML, display\n",
    "\n",
    "def display_board(words: list,\n",
    "                  blue_words: list=None,\n",
    "                  red_words: list=None,\n",
    "                  assassin_words: list=None) -> None:\n",
    "    blue_words = blue_words or []\n",
    "    red_words = red_words or []\n",
    "    assassin_words = assassin_words or []\n",
    "    \n",
    "    html = \"<table class=\\\"table table-bordered\\\">\"\n",
    "    for row in words:\n",
    "        html += \"<tr>\"\n",
    "        for field in row:\n",
    "            css_class = \"text-muted\"\n",
    "            if field in blue_words:\n",
    "                css_class = \"text-primary\"\n",
    "            if field in red_words:\n",
    "                css_class = \"text-danger\"\n",
    "            elif field in assassin_words:\n",
    "                css_class = \"text-dark\"\n",
    "            html += '<td><h4 class=\"text-center {}\">{}</h4></td>'.format(css_class, field)\n",
    "        html += \"</tr>\"\n",
    "    html += \"</table>\"\n",
    "    display(HTML(html))\n",
    "\n",
    "def random_state() -> tuple:\n",
    "    choices = random.sample(wordlist, 25)\n",
    "    words = [choices[x:x+5] for x in range(0, len(choices), 5)]\n",
    "    blue_words = random.sample(set(choices), 9)\n",
    "    red_words = random.sample(set(choices) - set(blue_words), 8)\n",
    "    assassin_words = random.sample(set(choices) - set(blue_words) - set(red_words), 1)\n",
    "    return words, blue_words, red_words, assassin_words\n",
    "\n",
    "def new_game(two_players_mode: bool=False) -> None:\n",
    "    words, blue_words, red_words, assassin_words = random_state()\n",
    "    if two_players_mode:\n",
    "        assassin_words += red_words[:2]\n",
    "        red_words = []\n",
    "\n",
    "    print(\"\\nNeutral board:\")\n",
    "    display_board(words)\n",
    "    print(\"\\nSpymaster board:\")\n",
    "    display_board(words, blue_words, red_words, assassin_words)"
   ]
  },
  {
   "cell_type": "code",
   "execution_count": 3,
   "metadata": {},
   "outputs": [
    {
     "name": "stdout",
     "output_type": "stream",
     "text": [
      "\n",
      "Neutral board:\n"
     ]
    },
    {
     "data": {
      "text/html": [
       "<table class=\"table table-bordered\"><tr><td><h4 class=\"text-center text-muted\">Licorne</h4></td><td><h4 class=\"text-center text-muted\">Poker</h4></td><td><h4 class=\"text-center text-muted\">Histoire</h4></td><td><h4 class=\"text-center text-muted\">Uniforme</h4></td><td><h4 class=\"text-center text-muted\">Piquer</h4></td></tr><tr><td><h4 class=\"text-center text-muted\">Plante</h4></td><td><h4 class=\"text-center text-muted\">Aspirateur</h4></td><td><h4 class=\"text-center text-muted\">Yoga</h4></td><td><h4 class=\"text-center text-muted\">Vampire</h4></td><td><h4 class=\"text-center text-muted\">Fantôme</h4></td></tr><tr><td><h4 class=\"text-center text-muted\">Klaxon</h4></td><td><h4 class=\"text-center text-muted\">Maîtresse</h4></td><td><h4 class=\"text-center text-muted\">Billet</h4></td><td><h4 class=\"text-center text-muted\">Horrible</h4></td><td><h4 class=\"text-center text-muted\">Sommeil</h4></td></tr><tr><td><h4 class=\"text-center text-muted\">Docteur</h4></td><td><h4 class=\"text-center text-muted\">Gauche</h4></td><td><h4 class=\"text-center text-muted\">Film</h4></td><td><h4 class=\"text-center text-muted\">Roi</h4></td><td><h4 class=\"text-center text-muted\">Promettre</h4></td></tr><tr><td><h4 class=\"text-center text-muted\">Patron</h4></td><td><h4 class=\"text-center text-muted\">Tennis</h4></td><td><h4 class=\"text-center text-muted\">Fièvre</h4></td><td><h4 class=\"text-center text-muted\">Poupée</h4></td><td><h4 class=\"text-center text-muted\">Accident</h4></td></tr></table>"
      ],
      "text/plain": [
       "<IPython.core.display.HTML object>"
      ]
     },
     "metadata": {},
     "output_type": "display_data"
    },
    {
     "name": "stdout",
     "output_type": "stream",
     "text": [
      "\n",
      "Spymaster board:\n"
     ]
    },
    {
     "data": {
      "text/html": [
       "<table class=\"table table-bordered\"><tr><td><h4 class=\"text-center text-primary\">Licorne</h4></td><td><h4 class=\"text-center text-danger\">Poker</h4></td><td><h4 class=\"text-center text-danger\">Histoire</h4></td><td><h4 class=\"text-center text-primary\">Uniforme</h4></td><td><h4 class=\"text-center text-muted\">Piquer</h4></td></tr><tr><td><h4 class=\"text-center text-danger\">Plante</h4></td><td><h4 class=\"text-center text-muted\">Aspirateur</h4></td><td><h4 class=\"text-center text-primary\">Yoga</h4></td><td><h4 class=\"text-center text-danger\">Vampire</h4></td><td><h4 class=\"text-center text-danger\">Fantôme</h4></td></tr><tr><td><h4 class=\"text-center text-dark\">Klaxon</h4></td><td><h4 class=\"text-center text-muted\">Maîtresse</h4></td><td><h4 class=\"text-center text-primary\">Billet</h4></td><td><h4 class=\"text-center text-danger\">Horrible</h4></td><td><h4 class=\"text-center text-danger\">Sommeil</h4></td></tr><tr><td><h4 class=\"text-center text-muted\">Docteur</h4></td><td><h4 class=\"text-center text-primary\">Gauche</h4></td><td><h4 class=\"text-center text-primary\">Film</h4></td><td><h4 class=\"text-center text-muted\">Roi</h4></td><td><h4 class=\"text-center text-muted\">Promettre</h4></td></tr><tr><td><h4 class=\"text-center text-primary\">Patron</h4></td><td><h4 class=\"text-center text-muted\">Tennis</h4></td><td><h4 class=\"text-center text-primary\">Fièvre</h4></td><td><h4 class=\"text-center text-danger\">Poupée</h4></td><td><h4 class=\"text-center text-primary\">Accident</h4></td></tr></table>"
      ],
      "text/plain": [
       "<IPython.core.display.HTML object>"
      ]
     },
     "metadata": {},
     "output_type": "display_data"
    }
   ],
   "source": [
    "new_game()"
   ]
  },
  {
   "cell_type": "code",
   "execution_count": 4,
   "metadata": {},
   "outputs": [
    {
     "name": "stdout",
     "output_type": "stream",
     "text": [
      "\n",
      "Neutral board:\n"
     ]
    },
    {
     "data": {
      "text/html": [
       "<table class=\"table table-bordered\"><tr><td><h4 class=\"text-center text-muted\">Jeune</h4></td><td><h4 class=\"text-center text-muted\">Kangourou</h4></td><td><h4 class=\"text-center text-muted\">Pompe</h4></td><td><h4 class=\"text-center text-muted\">Baleine</h4></td><td><h4 class=\"text-center text-muted\">Jour</h4></td></tr><tr><td><h4 class=\"text-center text-muted\">Certain</h4></td><td><h4 class=\"text-center text-muted\">Echelle</h4></td><td><h4 class=\"text-center text-muted\">Magie</h4></td><td><h4 class=\"text-center text-muted\">Recyclé</h4></td><td><h4 class=\"text-center text-muted\">Voler</h4></td></tr><tr><td><h4 class=\"text-center text-muted\">Droite</h4></td><td><h4 class=\"text-center text-muted\">Gel</h4></td><td><h4 class=\"text-center text-muted\">Pluie</h4></td><td><h4 class=\"text-center text-muted\">Nuit</h4></td><td><h4 class=\"text-center text-muted\">Majeur</h4></td></tr><tr><td><h4 class=\"text-center text-muted\">Ile</h4></td><td><h4 class=\"text-center text-muted\">Poison</h4></td><td><h4 class=\"text-center text-muted\">Australie</h4></td><td><h4 class=\"text-center text-muted\">Fièvre</h4></td><td><h4 class=\"text-center text-muted\">Correct</h4></td></tr><tr><td><h4 class=\"text-center text-muted\">Danser</h4></td><td><h4 class=\"text-center text-muted\">Araignée</h4></td><td><h4 class=\"text-center text-muted\">Queue</h4></td><td><h4 class=\"text-center text-muted\">Réseau</h4></td><td><h4 class=\"text-center text-muted\">Journal</h4></td></tr></table>"
      ],
      "text/plain": [
       "<IPython.core.display.HTML object>"
      ]
     },
     "metadata": {},
     "output_type": "display_data"
    },
    {
     "name": "stdout",
     "output_type": "stream",
     "text": [
      "\n",
      "Spymaster board:\n"
     ]
    },
    {
     "data": {
      "text/html": [
       "<table class=\"table table-bordered\"><tr><td><h4 class=\"text-center text-primary\">Jeune</h4></td><td><h4 class=\"text-center text-muted\">Kangourou</h4></td><td><h4 class=\"text-center text-muted\">Pompe</h4></td><td><h4 class=\"text-center text-primary\">Baleine</h4></td><td><h4 class=\"text-center text-dark\">Jour</h4></td></tr><tr><td><h4 class=\"text-center text-muted\">Certain</h4></td><td><h4 class=\"text-center text-muted\">Echelle</h4></td><td><h4 class=\"text-center text-muted\">Magie</h4></td><td><h4 class=\"text-center text-muted\">Recyclé</h4></td><td><h4 class=\"text-center text-primary\">Voler</h4></td></tr><tr><td><h4 class=\"text-center text-dark\">Droite</h4></td><td><h4 class=\"text-center text-muted\">Gel</h4></td><td><h4 class=\"text-center text-dark\">Pluie</h4></td><td><h4 class=\"text-center text-primary\">Nuit</h4></td><td><h4 class=\"text-center text-primary\">Majeur</h4></td></tr><tr><td><h4 class=\"text-center text-muted\">Ile</h4></td><td><h4 class=\"text-center text-primary\">Poison</h4></td><td><h4 class=\"text-center text-muted\">Australie</h4></td><td><h4 class=\"text-center text-primary\">Fièvre</h4></td><td><h4 class=\"text-center text-muted\">Correct</h4></td></tr><tr><td><h4 class=\"text-center text-muted\">Danser</h4></td><td><h4 class=\"text-center text-primary\">Araignée</h4></td><td><h4 class=\"text-center text-muted\">Queue</h4></td><td><h4 class=\"text-center text-muted\">Réseau</h4></td><td><h4 class=\"text-center text-primary\">Journal</h4></td></tr></table>"
      ],
      "text/plain": [
       "<IPython.core.display.HTML object>"
      ]
     },
     "metadata": {},
     "output_type": "display_data"
    }
   ],
   "source": [
    "new_game(two_players_mode=True)"
   ]
  }
 ],
 "metadata": {
  "kernelspec": {
   "display_name": "Python 3",
   "language": "python",
   "name": "python3"
  },
  "language_info": {
   "codemirror_mode": {
    "name": "ipython",
    "version": 3
   },
   "file_extension": ".py",
   "mimetype": "text/x-python",
   "name": "python",
   "nbconvert_exporter": "python",
   "pygments_lexer": "ipython3",
   "version": "3.8.0"
  }
 },
 "nbformat": 4,
 "nbformat_minor": 4
}
